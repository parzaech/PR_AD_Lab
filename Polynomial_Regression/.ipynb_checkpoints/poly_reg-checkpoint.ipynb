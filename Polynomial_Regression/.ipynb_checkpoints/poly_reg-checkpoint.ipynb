{
 "cells": [
  {
   "cell_type": "code",
   "execution_count": 1,
   "id": "a3489b13",
   "metadata": {},
   "outputs": [],
   "source": [
    "import numpy as np\n",
    "import pandas as pd\n",
    "import matplotlib.pyplot as plt"
   ]
  },
  {
   "cell_type": "code",
   "execution_count": 2,
   "id": "81ecdf6b",
   "metadata": {},
   "outputs": [],
   "source": [
    "dataset = pd.read_csv('Position_Salaries.csv')"
   ]
  },
  {
   "cell_type": "code",
   "execution_count": 3,
   "id": "916345a7",
   "metadata": {},
   "outputs": [
    {
     "data": {
      "text/html": [
       "<div>\n",
       "<style scoped>\n",
       "    .dataframe tbody tr th:only-of-type {\n",
       "        vertical-align: middle;\n",
       "    }\n",
       "\n",
       "    .dataframe tbody tr th {\n",
       "        vertical-align: top;\n",
       "    }\n",
       "\n",
       "    .dataframe thead th {\n",
       "        text-align: right;\n",
       "    }\n",
       "</style>\n",
       "<table border=\"1\" class=\"dataframe\">\n",
       "  <thead>\n",
       "    <tr style=\"text-align: right;\">\n",
       "      <th></th>\n",
       "      <th>Position</th>\n",
       "      <th>Level</th>\n",
       "      <th>Salary</th>\n",
       "    </tr>\n",
       "  </thead>\n",
       "  <tbody>\n",
       "    <tr>\n",
       "      <th>0</th>\n",
       "      <td>Business Analyst</td>\n",
       "      <td>1</td>\n",
       "      <td>45000</td>\n",
       "    </tr>\n",
       "    <tr>\n",
       "      <th>1</th>\n",
       "      <td>Junior Consultant</td>\n",
       "      <td>2</td>\n",
       "      <td>50000</td>\n",
       "    </tr>\n",
       "    <tr>\n",
       "      <th>2</th>\n",
       "      <td>Senior Consultant</td>\n",
       "      <td>3</td>\n",
       "      <td>60000</td>\n",
       "    </tr>\n",
       "    <tr>\n",
       "      <th>3</th>\n",
       "      <td>Manager</td>\n",
       "      <td>4</td>\n",
       "      <td>80000</td>\n",
       "    </tr>\n",
       "    <tr>\n",
       "      <th>4</th>\n",
       "      <td>Country Manager</td>\n",
       "      <td>5</td>\n",
       "      <td>110000</td>\n",
       "    </tr>\n",
       "  </tbody>\n",
       "</table>\n",
       "</div>"
      ],
      "text/plain": [
       "            Position  Level  Salary\n",
       "0   Business Analyst      1   45000\n",
       "1  Junior Consultant      2   50000\n",
       "2  Senior Consultant      3   60000\n",
       "3            Manager      4   80000\n",
       "4    Country Manager      5  110000"
      ]
     },
     "execution_count": 3,
     "metadata": {},
     "output_type": "execute_result"
    }
   ],
   "source": [
    "dataset.head()"
   ]
  },
  {
   "cell_type": "code",
   "execution_count": 4,
   "id": "c1b0d00f",
   "metadata": {},
   "outputs": [],
   "source": [
    "#Dependent feature\n",
    "y = np.asarray(dataset['Salary'].values.tolist()) \n",
    "\n",
    "# Independent Feature\n",
    "X = np.asarray(dataset['Level'].values.tolist())"
   ]
  },
  {
   "cell_type": "code",
   "execution_count": 5,
   "id": "a19015b9",
   "metadata": {},
   "outputs": [],
   "source": [
    "X = X.reshape(-1,1)"
   ]
  },
  {
   "cell_type": "code",
   "execution_count": 6,
   "id": "467b7802",
   "metadata": {},
   "outputs": [],
   "source": [
    "y = y.reshape(len(y),1) # Changing the shape from (50,) to (50,1)\n"
   ]
  },
  {
   "cell_type": "code",
   "execution_count": 7,
   "id": "dc95e1e8",
   "metadata": {},
   "outputs": [],
   "source": [
    "def poly_features(features, X):\n",
    "  data = pd.DataFrame(np.zeros((X.shape[0],features)))\n",
    "  for i in range(1,features+1):\n",
    "    data.iloc[:,i-1] = (X**i).reshape(-1,1)\n",
    "  X_poly = np.array(data.values.tolist())\n",
    "  return X_poly"
   ]
  },
  {
   "cell_type": "code",
   "execution_count": 8,
   "id": "2f91d6cb",
   "metadata": {},
   "outputs": [],
   "source": [
    "def split_data(X,y,test_size=0.2,random_state=0):\n",
    "    np.random.seed(random_state)                  #set the seed for reproducible results\n",
    "    indices = np.random.permutation(len(X))       #shuffling the indices\n",
    "    data_test_size = int(X.shape[0] * test_size)  #Get the test size\n",
    "\n",
    "    #Separating the Independent and Dependent features into the Train and Test Set\n",
    "    train_indices = indices[data_test_size:]\n",
    "    test_indices = indices[:data_test_size]\n",
    "    X_train = X[train_indices]\n",
    "    y_train = y[train_indices]\n",
    "    X_test = X[test_indices]\n",
    "    y_test = y[test_indices]\n",
    "    return X_train, y_train, X_test, y_test"
   ]
  },
  {
   "cell_type": "code",
   "execution_count": 9,
   "id": "a9e4dd11",
   "metadata": {},
   "outputs": [],
   "source": [
    "def pred_to_plot(W_trained, X):\n",
    "  prediction_values = list()\n",
    "  for i in range(X.shape[0]):\n",
    "    value = regressor.predict(W_trained,X[i])\n",
    "    prediction_values.append(value)\n",
    "  return prediction_values"
   ]
  },
  {
   "cell_type": "code",
   "execution_count": 10,
   "id": "c9d37fa3",
   "metadata": {},
   "outputs": [],
   "source": [
    "class polynomialRegression():\n",
    "\n",
    "  def __init__(self):\n",
    "    #No instance Variables required\n",
    "    pass\n",
    "\n",
    "  def forward(self,X,y,W):\n",
    "    \"\"\"\n",
    "    Parameters:\n",
    "    X (array) : Independent Features\n",
    "    y (array) : Dependent Features/ Target Variable\n",
    "    W (array) : Weights \n",
    "\n",
    "    Returns:\n",
    "    loss (float) : Calculated Sqaured Error Loss for y and y_pred\n",
    "    y_pred (array) : Predicted Target Variable\n",
    "    \"\"\"\n",
    "    y_pred = sum(W * X)\n",
    "    loss = ((y_pred-y)**2)/2    #Loss = Squared Error, we introduce 1/2 for ease in the calculation\n",
    "    return loss, y_pred\n",
    "\n",
    "  def updateWeights(self,X,y_pred,y_true,W,alpha,index):\n",
    "    \"\"\"\n",
    "    Parameters:\n",
    "    X (array) : Independent Features\n",
    "    y_pred (array) : Predicted Target Variable\n",
    "    y_true (array) : Dependent Features/ Target Variable\n",
    "    W (array) : Weights\n",
    "    alpha (float) : learning rate\n",
    "    index (int) : Index to fetch the corresponding values of W, X and y \n",
    "\n",
    "    Returns:\n",
    "    W (array) : Update Values of Weight\n",
    "    \"\"\"\n",
    "    for i in range(X.shape[1]):\n",
    "      #alpha = learning rate, rest of the RHS is derivative of loss function\n",
    "      W[i] -= (alpha * (y_pred-y_true[index])*X[index][i]) \n",
    "    return W\n",
    "\n",
    "  def train(self, X, y, epochs=10, alpha=0.001, random_state=0):\n",
    "    \"\"\"\n",
    "    Parameters:\n",
    "    X (array) : Independent Feature\n",
    "    y (array) : Dependent Features/ Target Variable\n",
    "    epochs (int) : Number of epochs for training, default value is 10\n",
    "    alpha (float) : learning rate, default value is 0.001\n",
    "\n",
    "    Returns:\n",
    "    y_pred (array) : Predicted Target Variable\n",
    "    loss (float) : Calculated Sqaured Error Loss for y and y_pred\n",
    "    \"\"\"\n",
    "\n",
    "    num_rows = X.shape[0] #Number of Rows\n",
    "    num_cols = X.shape[1] #Number of Columns \n",
    "    W = np.random.randn(1,num_cols) / np.sqrt(num_rows) #Weight Initialization\n",
    "\n",
    "    #Calculating Loss and Updating Weights\n",
    "    train_loss = []\n",
    "    num_epochs = []\n",
    "    train_indices = [i for i in range(X.shape[0])]\n",
    "    for j in range(epochs):\n",
    "      cost=0\n",
    "      np.random.seed(random_state)\n",
    "      np.random.shuffle(train_indices)\n",
    "      for i in train_indices:\n",
    "        loss, y_pred = self.forward(X[i],y[i],W[0])\n",
    "        cost+=loss\n",
    "        W[0] = self.updateWeights(X,y_pred,y,W[0],alpha,i)\n",
    "      train_loss.append(cost)\n",
    "      num_epochs.append(j)\n",
    "    return W[0], train_loss, num_epochs\n",
    "\n",
    "  def test(self, X_test, y_test, W_trained):\n",
    "    \"\"\"\n",
    "    Parameters:\n",
    "    X_test (array) : Independent Features from the Test Set\n",
    "    y_test (array) : Dependent Features/ Target Variable from the Test Set\n",
    "    W_trained (array) : Trained Weights\n",
    "    test_indices (list) : Index to fetch the corresponding values of W_trained,\n",
    "                          X_test and y_test \n",
    "\n",
    "    Returns:\n",
    "    test_pred (list) : Predicted Target Variable\n",
    "    test_loss (list) : Calculated Sqaured Error Loss for y and y_pred\n",
    "    \"\"\"\n",
    "    test_pred = []\n",
    "    test_loss = []\n",
    "    test_indices = [i for i in range(X_test.shape[0])]\n",
    "    for i in test_indices:\n",
    "        loss, y_test_pred = self.forward(X_test[i], W_trained, y_test[i])\n",
    "        test_pred.append(y_test_pred)\n",
    "        test_loss.append(loss)\n",
    "    return test_pred, test_loss\n",
    "    \n",
    "\n",
    "  def predict(self, W_trained, X_sample):\n",
    "    prediction = sum(W_trained * X_sample)\n",
    "    return prediction\n",
    "\n",
    "  def plotLoss(self, loss, epochs):\n",
    "    \"\"\"\n",
    "    Parameters:\n",
    "    loss (list) : Calculated Sqaured Error Loss for y and y_pred\n",
    "    epochs (list): Number of Epochs\n",
    "\n",
    "    Returns: None\n",
    "    Plots a graph of Loss vs Epochs\n",
    "    \"\"\"\n",
    "    plt.plot(epochs, loss)\n",
    "    plt.xlabel('Number of Epochs')\n",
    "    plt.ylabel('Loss')\n",
    "    plt.title('Plot Loss')\n",
    "    plt.show()\n",
    "  "
   ]
  },
  {
   "cell_type": "code",
   "execution_count": 11,
   "id": "2d38123d",
   "metadata": {},
   "outputs": [],
   "source": [
    "X = np.asarray(dataset['Level'].values.tolist())"
   ]
  },
  {
   "cell_type": "code",
   "execution_count": 12,
   "id": "64d8cc98",
   "metadata": {},
   "outputs": [],
   "source": [
    "X = X.reshape(-1,1)"
   ]
  },
  {
   "cell_type": "code",
   "execution_count": 13,
   "id": "45a6e2c2",
   "metadata": {},
   "outputs": [
    {
     "data": {
      "text/plain": [
       "array([[ 1],\n",
       "       [ 2],\n",
       "       [ 3],\n",
       "       [ 4],\n",
       "       [ 5],\n",
       "       [ 6],\n",
       "       [ 7],\n",
       "       [ 8],\n",
       "       [ 9],\n",
       "       [10]])"
      ]
     },
     "execution_count": 13,
     "metadata": {},
     "output_type": "execute_result"
    }
   ],
   "source": [
    "X"
   ]
  },
  {
   "cell_type": "code",
   "execution_count": 14,
   "id": "3e483b1c",
   "metadata": {},
   "outputs": [
    {
     "name": "stderr",
     "output_type": "stream",
     "text": [
      "/var/folders/lb/_lc8jsw57gg97jlqvd8bn5x80000gn/T/ipykernel_28117/86361913.py:4: FutureWarning: Setting an item of incompatible dtype is deprecated and will raise in a future error of pandas. Value '[[ 1]\n",
      " [ 2]\n",
      " [ 3]\n",
      " [ 4]\n",
      " [ 5]\n",
      " [ 6]\n",
      " [ 7]\n",
      " [ 8]\n",
      " [ 9]\n",
      " [10]]' has dtype incompatible with float64, please explicitly cast to a compatible dtype first.\n",
      "  data.iloc[:,i-1] = (X**i).reshape(-1,1)\n"
     ]
    }
   ],
   "source": [
    "X = poly_features(2,X)"
   ]
  },
  {
   "cell_type": "code",
   "execution_count": 15,
   "id": "7715db16",
   "metadata": {},
   "outputs": [],
   "source": [
    "#Adding the feature X0 = 1, so we have the equation: y =  W0 + (W1 * X1) + (W2 * (X1**2))\n",
    "X = np.concatenate((X,np.ones((10,1))), axis = 1)\n"
   ]
  },
  {
   "cell_type": "code",
   "execution_count": 16,
   "id": "144edcee",
   "metadata": {},
   "outputs": [
    {
     "data": {
      "text/plain": [
       "array([[  1.,   1.,   1.],\n",
       "       [  2.,   4.,   1.],\n",
       "       [  3.,   9.,   1.],\n",
       "       [  4.,  16.,   1.],\n",
       "       [  5.,  25.,   1.],\n",
       "       [  6.,  36.,   1.],\n",
       "       [  7.,  49.,   1.],\n",
       "       [  8.,  64.,   1.],\n",
       "       [  9.,  81.,   1.],\n",
       "       [ 10., 100.,   1.]])"
      ]
     },
     "execution_count": 16,
     "metadata": {},
     "output_type": "execute_result"
    }
   ],
   "source": [
    "X"
   ]
  },
  {
   "cell_type": "code",
   "execution_count": 17,
   "id": "29a3f261",
   "metadata": {},
   "outputs": [
    {
     "data": {
      "text/plain": [
       "array([[  45000],\n",
       "       [  50000],\n",
       "       [  60000],\n",
       "       [  80000],\n",
       "       [ 110000],\n",
       "       [ 150000],\n",
       "       [ 200000],\n",
       "       [ 300000],\n",
       "       [ 500000],\n",
       "       [1000000]])"
      ]
     },
     "execution_count": 17,
     "metadata": {},
     "output_type": "execute_result"
    }
   ],
   "source": [
    "y"
   ]
  },
  {
   "cell_type": "code",
   "execution_count": 24,
   "id": "9c8e5e2b",
   "metadata": {},
   "outputs": [],
   "source": [
    "X_train, y_train, X_test, y_test = split_data(X,y)"
   ]
  },
  {
   "cell_type": "code",
   "execution_count": 25,
   "id": "6f4b38f0",
   "metadata": {},
   "outputs": [],
   "source": [
    "regressor = polynomialRegression()"
   ]
  },
  {
   "cell_type": "code",
   "execution_count": 28,
   "id": "a34ab4b3",
   "metadata": {},
   "outputs": [],
   "source": [
    "W_trained, train_loss, num_epochs = regressor.train(X_train, y_train, epochs=200, alpha=0.00001)\n"
   ]
  },
  {
   "cell_type": "code",
   "execution_count": 29,
   "id": "33b07705",
   "metadata": {},
   "outputs": [],
   "source": [
    "test_pred, test_loss = regressor.test(X_test, y_test, W_trained)\n"
   ]
  },
  {
   "cell_type": "code",
   "execution_count": 30,
   "id": "d8b14611",
   "metadata": {},
   "outputs": [],
   "source": [
    "pred_plot = pred_to_plot(W_trained,X)"
   ]
  },
  {
   "cell_type": "code",
   "execution_count": 31,
   "id": "31226575",
   "metadata": {},
   "outputs": [
    {
     "data": {
      "image/png": "[encoded data removed]",
      "text/plain": [
       "<Figure size 640x480 with 1 Axes>"
      ]
     },
     "metadata": {},
     "output_type": "display_data"
    }
   ],
   "source": [
    "plt.scatter(X[:,0], y, color = 'red')\n",
    "plt.plot(X[:,0], pred_plot, color = 'blue')\n",
    "plt.title('Naive Polynomial Regression (N = 2)')\n",
    "plt.xlabel('Position level')\n",
    "plt.ylabel('Salary')\n",
    "plt.show()"
   ]
  },
  {
   "cell_type": "code",
   "execution_count": 32,
   "id": "b4c1fd18",
   "metadata": {},
   "outputs": [],
   "source": [
    "X = np.asarray(dataset['Level'].values.tolist())"
   ]
  },
  {
   "cell_type": "code",
   "execution_count": 33,
   "id": "75fb668b",
   "metadata": {},
   "outputs": [],
   "source": [
    "X = X.reshape(-1,1)\n"
   ]
  },
  {
   "cell_type": "code",
   "execution_count": 34,
   "id": "42979734",
   "metadata": {},
   "outputs": [
    {
     "name": "stderr",
     "output_type": "stream",
     "text": [
      "/var/folders/lb/_lc8jsw57gg97jlqvd8bn5x80000gn/T/ipykernel_28117/86361913.py:4: FutureWarning: Setting an item of incompatible dtype is deprecated and will raise in a future error of pandas. Value '[[ 1]\n",
      " [ 2]\n",
      " [ 3]\n",
      " [ 4]\n",
      " [ 5]\n",
      " [ 6]\n",
      " [ 7]\n",
      " [ 8]\n",
      " [ 9]\n",
      " [10]]' has dtype incompatible with float64, please explicitly cast to a compatible dtype first.\n",
      "  data.iloc[:,i-1] = (X**i).reshape(-1,1)\n"
     ]
    }
   ],
   "source": [
    "X_poly = poly_features(4,X)"
   ]
  },
  {
   "cell_type": "code",
   "execution_count": 35,
   "id": "2a377094",
   "metadata": {},
   "outputs": [],
   "source": [
    "X_poly = np.concatenate((X_poly,np.ones((10,1))), axis = 1)\n"
   ]
  },
  {
   "cell_type": "code",
   "execution_count": 36,
   "id": "50bcb6d2",
   "metadata": {},
   "outputs": [
    {
     "data": {
      "text/plain": [
       "array([[1.000e+00, 1.000e+00, 1.000e+00, 1.000e+00, 1.000e+00],\n",
       "       [2.000e+00, 4.000e+00, 8.000e+00, 1.600e+01, 1.000e+00],\n",
       "       [3.000e+00, 9.000e+00, 2.700e+01, 8.100e+01, 1.000e+00],\n",
       "       [4.000e+00, 1.600e+01, 6.400e+01, 2.560e+02, 1.000e+00],\n",
       "       [5.000e+00, 2.500e+01, 1.250e+02, 6.250e+02, 1.000e+00],\n",
       "       [6.000e+00, 3.600e+01, 2.160e+02, 1.296e+03, 1.000e+00],\n",
       "       [7.000e+00, 4.900e+01, 3.430e+02, 2.401e+03, 1.000e+00],\n",
       "       [8.000e+00, 6.400e+01, 5.120e+02, 4.096e+03, 1.000e+00],\n",
       "       [9.000e+00, 8.100e+01, 7.290e+02, 6.561e+03, 1.000e+00],\n",
       "       [1.000e+01, 1.000e+02, 1.000e+03, 1.000e+04, 1.000e+00]])"
      ]
     },
     "execution_count": 36,
     "metadata": {},
     "output_type": "execute_result"
    }
   ],
   "source": [
    "X_poly"
   ]
  },
  {
   "cell_type": "code",
   "execution_count": 37,
   "id": "a619d9ea",
   "metadata": {},
   "outputs": [
    {
     "data": {
      "text/plain": [
       "array([[  45000],\n",
       "       [  50000],\n",
       "       [  60000],\n",
       "       [  80000],\n",
       "       [ 110000],\n",
       "       [ 150000],\n",
       "       [ 200000],\n",
       "       [ 300000],\n",
       "       [ 500000],\n",
       "       [1000000]])"
      ]
     },
     "execution_count": 37,
     "metadata": {},
     "output_type": "execute_result"
    }
   ],
   "source": [
    "y"
   ]
  },
  {
   "cell_type": "code",
   "execution_count": 38,
   "id": "1a190726",
   "metadata": {},
   "outputs": [],
   "source": [
    "X_train, y_train, X_test, y_test = split_data(X_poly,y)"
   ]
  },
  {
   "cell_type": "code",
   "execution_count": 39,
   "id": "f6cd6054",
   "metadata": {},
   "outputs": [],
   "source": [
    "regressor = polynomialRegression()"
   ]
  },
  {
   "cell_type": "code",
   "execution_count": 40,
   "id": "fbe7b9ec",
   "metadata": {},
   "outputs": [],
   "source": [
    "W_trained, train_loss, num_epochs = regressor.train(X_train, y_train, epochs=1000, alpha=1e-9)\n"
   ]
  },
  {
   "cell_type": "code",
   "execution_count": 41,
   "id": "96df7240",
   "metadata": {},
   "outputs": [],
   "source": [
    "test_pred, test_loss = regressor.test(X_test, y_test, W_trained)\n"
   ]
  },
  {
   "cell_type": "code",
   "execution_count": 42,
   "id": "b8f24b9e",
   "metadata": {},
   "outputs": [
    {
     "data": {
      "text/plain": [
       "array([[1.000e+00, 1.000e+00, 1.000e+00, 1.000e+00, 1.000e+00],\n",
       "       [2.000e+00, 4.000e+00, 8.000e+00, 1.600e+01, 1.000e+00],\n",
       "       [3.000e+00, 9.000e+00, 2.700e+01, 8.100e+01, 1.000e+00],\n",
       "       [4.000e+00, 1.600e+01, 6.400e+01, 2.560e+02, 1.000e+00],\n",
       "       [5.000e+00, 2.500e+01, 1.250e+02, 6.250e+02, 1.000e+00],\n",
       "       [6.000e+00, 3.600e+01, 2.160e+02, 1.296e+03, 1.000e+00],\n",
       "       [7.000e+00, 4.900e+01, 3.430e+02, 2.401e+03, 1.000e+00],\n",
       "       [8.000e+00, 6.400e+01, 5.120e+02, 4.096e+03, 1.000e+00],\n",
       "       [9.000e+00, 8.100e+01, 7.290e+02, 6.561e+03, 1.000e+00],\n",
       "       [1.000e+01, 1.000e+02, 1.000e+03, 1.000e+04, 1.000e+00]])"
      ]
     },
     "execution_count": 42,
     "metadata": {},
     "output_type": "execute_result"
    }
   ],
   "source": [
    "X_poly\n"
   ]
  },
  {
   "cell_type": "code",
   "execution_count": 43,
   "id": "33007e14",
   "metadata": {},
   "outputs": [],
   "source": [
    "pred_plot = pred_to_plot(W_trained,X_poly)"
   ]
  },
  {
   "cell_type": "code",
   "execution_count": 44,
   "id": "944e7992",
   "metadata": {},
   "outputs": [
    {
     "data": {
      "text/plain": [
       "[101.56686988148302,\n",
       " 1570.332736753576,\n",
       " 7876.252690310476,\n",
       " 24783.645533405484,\n",
       " 60351.39230382515,\n",
       " 124932.93627428928,\n",
       " 231176.28295245094,\n",
       " 394024.0000808964,\n",
       " 630713.2176371454,\n",
       " 960775.6278336504]"
      ]
     },
     "execution_count": 44,
     "metadata": {},
     "output_type": "execute_result"
    }
   ],
   "source": [
    "pred_plot"
   ]
  },
  {
   "cell_type": "code",
   "execution_count": 45,
   "id": "0596cf97",
   "metadata": {},
   "outputs": [
    {
     "data": {
      "image/png": "[encoded data removed]",
      "text/plain": [
       "<Figure size 640x480 with 1 Axes>"
      ]
     },
     "metadata": {},
     "output_type": "display_data"
    }
   ],
   "source": [
    "plt.scatter(X_poly[:,0], y, color = 'red')\n",
    "plt.plot(X_poly[:,0], pred_plot, color = 'blue')\n",
    "plt.title('Naive Polynomial Regression (N=4)')\n",
    "plt.xlabel('Position level')\n",
    "plt.ylabel('Salary')\n",
    "plt.show()"
   ]
  },
  {
   "cell_type": "code",
   "execution_count": 46,
   "id": "f1c0fcc8",
   "metadata": {},
   "outputs": [],
   "source": [
    "from sklearn.model_selection import train_test_split\n",
    "from sklearn.linear_model import LinearRegression\n",
    "from sklearn.preprocessing import PolynomialFeatures"
   ]
  },
  {
   "cell_type": "code",
   "execution_count": 47,
   "id": "731e99f9",
   "metadata": {},
   "outputs": [],
   "source": [
    "X_sk = dataset.iloc[:, 1].values\n",
    "y_sk = dataset.iloc[:, -1].values"
   ]
  },
  {
   "cell_type": "code",
   "execution_count": 48,
   "id": "cab177d4",
   "metadata": {},
   "outputs": [],
   "source": [
    "X_sk = X_sk.reshape(-1,1)\n",
    "y_sk = y_sk.reshape(-1,1)"
   ]
  },
  {
   "cell_type": "code",
   "execution_count": 49,
   "id": "730775f1",
   "metadata": {},
   "outputs": [],
   "source": [
    "# Constructing the polynomials of our Independent features \n",
    "poly_reg = PolynomialFeatures(degree = 4)\n",
    "X_poly_sk = poly_reg.fit_transform(X_sk)"
   ]
  },
  {
   "cell_type": "code",
   "execution_count": 50,
   "id": "763c1ad7",
   "metadata": {},
   "outputs": [
    {
     "name": "stdout",
     "output_type": "stream",
     "text": [
      "The shape of the independent fatures are  (10, 5)\n",
      "The shape of the dependent fatures are  (10, 1)\n"
     ]
    }
   ],
   "source": [
    "#Get the shapes of X and y\n",
    "print(\"The shape of the independent fatures are \",X_poly_sk.shape)\n",
    "print(\"The shape of the dependent fatures are \",y_sk.shape)"
   ]
  },
  {
   "cell_type": "code",
   "execution_count": 51,
   "id": "82d3b0ac",
   "metadata": {},
   "outputs": [
    {
     "data": {
      "text/plain": [
       "array([[1.000e+00, 1.000e+00, 1.000e+00, 1.000e+00, 1.000e+00],\n",
       "       [1.000e+00, 2.000e+00, 4.000e+00, 8.000e+00, 1.600e+01],\n",
       "       [1.000e+00, 3.000e+00, 9.000e+00, 2.700e+01, 8.100e+01],\n",
       "       [1.000e+00, 4.000e+00, 1.600e+01, 6.400e+01, 2.560e+02],\n",
       "       [1.000e+00, 5.000e+00, 2.500e+01, 1.250e+02, 6.250e+02],\n",
       "       [1.000e+00, 6.000e+00, 3.600e+01, 2.160e+02, 1.296e+03],\n",
       "       [1.000e+00, 7.000e+00, 4.900e+01, 3.430e+02, 2.401e+03],\n",
       "       [1.000e+00, 8.000e+00, 6.400e+01, 5.120e+02, 4.096e+03],\n",
       "       [1.000e+00, 9.000e+00, 8.100e+01, 7.290e+02, 6.561e+03],\n",
       "       [1.000e+00, 1.000e+01, 1.000e+02, 1.000e+03, 1.000e+04]])"
      ]
     },
     "execution_count": 51,
     "metadata": {},
     "output_type": "execute_result"
    }
   ],
   "source": [
    "X_poly_sk\n"
   ]
  },
  {
   "cell_type": "code",
   "execution_count": 52,
   "id": "f17f5267",
   "metadata": {},
   "outputs": [],
   "source": [
    "X_train_sk, X_test_sk, y_train_sk, y_test_sk = train_test_split(X_poly_sk, y_sk, test_size = 0.2, random_state = 0)"
   ]
  },
  {
   "cell_type": "code",
   "execution_count": 53,
   "id": "aba94e03",
   "metadata": {},
   "outputs": [
    {
     "data": {
      "text/html": [
       "<style>#sk-container-id-1 {color: black;background-color: white;}#sk-container-id-1 pre{padding: 0;}#sk-container-id-1 div.sk-toggleable {background-color: white;}#sk-container-id-1 label.sk-toggleable__label {cursor: pointer;display: block;width: 100%;margin-bottom: 0;padding: 0.3em;box-sizing: border-box;text-align: center;}#sk-container-id-1 label.sk-toggleable__label-arrow:before {content: \"▸\";float: left;margin-right: 0.25em;color: #696969;}#sk-container-id-1 label.sk-toggleable__label-arrow:hover:before {color: black;}#sk-container-id-1 div.sk-estimator:hover label.sk-toggleable__label-arrow:before {color: black;}#sk-container-id-1 div.sk-toggleable__content {max-height: 0;max-width: 0;overflow: hidden;text-align: left;background-color: #f0f8ff;}#sk-container-id-1 div.sk-toggleable__content pre {margin: 0.2em;color: black;border-radius: 0.25em;background-color: #f0f8ff;}#sk-container-id-1 input.sk-toggleable__control:checked~div.sk-toggleable__content {max-height: 200px;max-width: 100%;overflow: auto;}#sk-container-id-1 input.sk-toggleable__control:checked~label.sk-toggleable__label-arrow:before {content: \"▾\";}#sk-container-id-1 div.sk-estimator input.sk-toggleable__control:checked~label.sk-toggleable__label {background-color: #d4ebff;}#sk-container-id-1 div.sk-label input.sk-toggleable__control:checked~label.sk-toggleable__label {background-color: #d4ebff;}#sk-container-id-1 input.sk-hidden--visually {border: 0;clip: rect(1px 1px 1px 1px);clip: rect(1px, 1px, 1px, 1px);height: 1px;margin: -1px;overflow: hidden;padding: 0;position: absolute;width: 1px;}#sk-container-id-1 div.sk-estimator {font-family: monospace;background-color: #f0f8ff;border: 1px dotted black;border-radius: 0.25em;box-sizing: border-box;margin-bottom: 0.5em;}#sk-container-id-1 div.sk-estimator:hover {background-color: #d4ebff;}#sk-container-id-1 div.sk-parallel-item::after {content: \"\";width: 100%;border-bottom: 1px solid gray;flex-grow: 1;}#sk-container-id-1 div.sk-label:hover label.sk-toggleable__label {background-color: #d4ebff;}#sk-container-id-1 div.sk-serial::before {content: \"\";position: absolute;border-left: 1px solid gray;box-sizing: border-box;top: 0;bottom: 0;left: 50%;z-index: 0;}#sk-container-id-1 div.sk-serial {display: flex;flex-direction: column;align-items: center;background-color: white;padding-right: 0.2em;padding-left: 0.2em;position: relative;}#sk-container-id-1 div.sk-item {position: relative;z-index: 1;}#sk-container-id-1 div.sk-parallel {display: flex;align-items: stretch;justify-content: center;background-color: white;position: relative;}#sk-container-id-1 div.sk-item::before, #sk-container-id-1 div.sk-parallel-item::before {content: \"\";position: absolute;border-left: 1px solid gray;box-sizing: border-box;top: 0;bottom: 0;left: 50%;z-index: -1;}#sk-container-id-1 div.sk-parallel-item {display: flex;flex-direction: column;z-index: 1;position: relative;background-color: white;}#sk-container-id-1 div.sk-parallel-item:first-child::after {align-self: flex-end;width: 50%;}#sk-container-id-1 div.sk-parallel-item:last-child::after {align-self: flex-start;width: 50%;}#sk-container-id-1 div.sk-parallel-item:only-child::after {width: 0;}#sk-container-id-1 div.sk-dashed-wrapped {border: 1px dashed gray;margin: 0 0.4em 0.5em 0.4em;box-sizing: border-box;padding-bottom: 0.4em;background-color: white;}#sk-container-id-1 div.sk-label label {font-family: monospace;font-weight: bold;display: inline-block;line-height: 1.2em;}#sk-container-id-1 div.sk-label-container {text-align: center;}#sk-container-id-1 div.sk-container {/* jupyter's `normalize.less` sets `[hidden] { display: none; }` but bootstrap.min.css set `[hidden] { display: none !important; }` so we also need the `!important` here to be able to override the default hidden behavior on the sphinx rendered scikit-learn.org. See: https://github.com/scikit-learn/scikit-learn/issues/21755 */display: inline-block !important;position: relative;}#sk-container-id-1 div.sk-text-repr-fallback {display: none;}</style><div id=\"sk-container-id-1\" class=\"sk-top-container\"><div class=\"sk-text-repr-fallback\"><pre>LinearRegression()</pre><b>In a Jupyter environment, please rerun this cell to show the HTML representation or trust the notebook. <br />On GitHub, the HTML representation is unable to render, please try loading this page with nbviewer.org.</b></div><div class=\"sk-container\" hidden><div class=\"sk-item\"><div class=\"sk-estimator sk-toggleable\"><input class=\"sk-toggleable__control sk-hidden--visually\" id=\"sk-estimator-id-1\" type=\"checkbox\" checked><label for=\"sk-estimator-id-1\" class=\"sk-toggleable__label sk-toggleable__label-arrow\">LinearRegression</label><div class=\"sk-toggleable__content\"><pre>LinearRegression()</pre></div></div></div></div></div>"
      ],
      "text/plain": [
       "LinearRegression()"
      ]
     },
     "execution_count": 53,
     "metadata": {},
     "output_type": "execute_result"
    }
   ],
   "source": [
    "regressor_sk = LinearRegression()\n",
    "regressor_sk.fit(X_train_sk, y_train_sk)"
   ]
  },
  {
   "cell_type": "code",
   "execution_count": 54,
   "id": "d9b8bef7",
   "metadata": {},
   "outputs": [
    {
     "data": {
      "image/png": "[encoded data removed]",
      "text/plain": [
       "<Figure size 640x480 with 1 Axes>"
      ]
     },
     "metadata": {},
     "output_type": "display_data"
    }
   ],
   "source": [
    "plt.scatter(X_poly_sk[:,1], y, color = 'red')\n",
    "plt.plot(X_poly_sk[:,1], regressor_sk.predict(X_poly_sk), color = 'blue')\n",
    "plt.title('Sklearn regression')\n",
    "plt.xlabel('Position level')\n",
    "plt.ylabel('Salary')\n",
    "plt.show()"
   ]
  },
  {
   "cell_type": "code",
   "execution_count": null,
   "id": "6469ed61",
   "metadata": {},
   "outputs": [],
   "source": []
  }
 ],
 "metadata": {
  "kernelspec": {
   "display_name": "Python 3 (ipykernel)",
   "language": "python",
   "name": "python3"
  },
  "language_info": {
   "codemirror_mode": {
    "name": "ipython",
    "version": 3
   },
   "file_extension": ".py",
   "mimetype": "text/x-python",
   "name": "python",
   "nbconvert_exporter": "python",
   "pygments_lexer": "ipython3",
   "version": "3.9.15"
  }
 },
 "nbformat": 4,
 "nbformat_minor": 5
}
